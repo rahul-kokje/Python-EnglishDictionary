{
 "cells": [
  {
   "cell_type": "markdown",
   "metadata": {},
   "source": [
    "Version 1.0 - Using a JSON file for data source"
   ]
  },
  {
   "cell_type": "code",
   "execution_count": 36,
   "metadata": {},
   "outputs": [
    {
     "name": "stdout",
     "output_type": "stream",
     "text": [
      "Enter a word: rushh\n",
      "Hmm.. ! I did not find the exact word. Did you mean 'rush' instead? (y/n): y\n",
      "1. (Bot.)  A name given to many aquatic or marsh-growing endogenous plants with soft, slender stems, as the species of Juncus and Scirpus. Note: Some species are used in bottoming chairs and plaiting mats, and the pith is used in some places for wicks to lamps and rushlights. 2. The merest trifle; a straw. John Bull's friendship is not worth a rush. Arbuthnot. Bog rush. See under Bog. -- Club rush, any rush of the genus Scirpus. -- Flowering rush. See under Flowering. -- Nut rush (a) Any plant of the genus Scleria, rushlike plants with hard nutlike fruits. (b) A name for several species of Cyperus having tuberous roots. -- Rush broom, an Australian leguminous plant (Viminaria denudata), having long, slender branches. Also, the Spanish broom. See under Candle. -- Rush grass, any grass of the genus Vilfa, grasses with wiry stems and one-flowered spikelets. -- Rush toad (ZoÃ¶l.), the natterjack. -- Scouring rush (Bot.) Same as Dutch rush, under Dutch. -- Spike rush, any rushlike plant of the genus Eleocharis, in which the flowers grow in dense spikes. -- Sweet rush, a sweet-scented grass of Arabia, etc. (Andropogon schoenanthus), used in Oriental medical practice. -- Wood rush, any plant of the genus Luzula, which differs in some technical characters from Juncus.\n",
      "\n",
      "1. To move forward with impetuosity, violence, and tumultuous rapidity or haste; as, armies rush to battle; waters rush down a precipice. Like to an entered tide, they all rush by. Shak. 2. To enter into something with undue haste and eagerness, or without due deliberation and preparation; as, to rush business or speculation. They . . . never think it to be a part of religion to rush into the office of princes and ministers. Sprat.\n",
      "\n",
      "1. To push or urge forward with impetuosity or violence; to hurry forward. 2. To recite (a lesson) or pass (an examination) without an error. [College Cant, U.S.]\n",
      "\n",
      "1. A moving forward with rapidity and force or eagerness; a violent motion or course; as, a rush of troops; a rush of winds; a rush of water. A gentleman of his train spurred up his horse, and, with a violent rush, severed him from the duke. Sir H. Wotton. 2. Great activity with pressure; as, a rush of business. [Colloq.] 3. A perfect recitation. [College Cant, U.S.] 4. (Football) (a) A rusher; as, the center rush, whose place is in the center of the rush line; the end rush. (b) The act of running with the ball. Bunt rush (Football), a combined rush by main strength. -- Rush line (Football), the line composed of rushers.\n"
     ]
    }
   ],
   "source": [
    "import json\n",
    "from difflib import get_close_matches\n",
    "\n",
    "data = json.load(open('dictionary.json'))\n",
    "\n",
    "def find_matches(word):\n",
    "    list_of_matches = []\n",
    "    for i in range(len(data)):\n",
    "        list_of_matches.extend(get_close_matches(word, data[i].keys(), n=10))\n",
    "    return get_close_matches(word, list_of_matches, n=1)\n",
    "\n",
    "def translate(word):\n",
    "    word = word.lower()\n",
    "    alphabet = ord(word[0]) - 97\n",
    "    if word in data[alphabet]:\n",
    "        return data[alphabet][word]\n",
    "    elif word.title() in data[alphabet]:\n",
    "        return data[alphabet][word.title()]\n",
    "    elif len(find_matches(word)) > 0:\n",
    "        wrd = find_matches(word)[0]\n",
    "        yn = input(f'Hmm.. ! I did not find the exact word. Did you mean \\'{wrd}\\' instead? (y/n): ')\n",
    "        if yn == 'Y' or yn == 'y':\n",
    "            return translate(wrd)\n",
    "        else:\n",
    "            return 'okay..'\n",
    "    else:\n",
    "        return 'Sorry ! Such word doesn\\'t exists. Please double cheeck.'\n",
    "    \n",
    "word = input('Enter a word: ')\n",
    "\n",
    "print(translate(word))"
   ]
  },
  {
   "cell_type": "markdown",
   "metadata": {},
   "source": [
    "Version 2.0 - Using a mysql database for data source"
   ]
  },
  {
   "cell_type": "code",
   "execution_count": 42,
   "metadata": {},
   "outputs": [
    {
     "name": "stdout",
     "output_type": "stream",
     "text": [
      "Please enter a word: run\n",
      "To move quickly by alternately making a short jump off of either foot.\n",
      "To perform an action, as in executing a program or a command.\n",
      "To develop in a direction.\n",
      "To flee; to take to one's heels; to cut and run.\n",
      "To direct or control (e.g. projects, businesses, etc.).\n",
      "To move along, of liquids.\n",
      "To compete in a race.\n"
     ]
    }
   ],
   "source": [
    "import mysql.connector\n",
    "\n",
    "con = mysql.connector.connect(\n",
    "    user = \"ardit700_student\",\n",
    "    password = \"ardit700_student\",\n",
    "    host = \"108.167.140.122\",\n",
    "    database = \"ardit700_pm1database\"\n",
    ")\n",
    "cursor = con.cursor()\n",
    "\n",
    "def find_word(word):\n",
    "    query = cursor.execute(f\"SELECT Definition FROM Dictionary WHERE Expression = '{word}'\")\n",
    "    return cursor.fetchall()\n",
    "\n",
    "word = input('Please enter a word: ')\n",
    "results = find_word(word)\n",
    "if results:\n",
    "    for result in results:\n",
    "        print(result[0])\n",
    "else:\n",
    "    print('No word found.')"
   ]
  }
 ],
 "metadata": {
  "kernelspec": {
   "display_name": "Python 3",
   "language": "python",
   "name": "python3"
  },
  "language_info": {
   "codemirror_mode": {
    "name": "ipython",
    "version": 3
   },
   "file_extension": ".py",
   "mimetype": "text/x-python",
   "name": "python",
   "nbconvert_exporter": "python",
   "pygments_lexer": "ipython3",
   "version": "3.7.6"
  }
 },
 "nbformat": 4,
 "nbformat_minor": 4
}
