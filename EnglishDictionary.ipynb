{
 "cells": [
  {
   "cell_type": "code",
   "execution_count": 34,
   "metadata": {},
   "outputs": [
    {
     "name": "stdout",
     "output_type": "stream",
     "text": [
      "Enter a word: Delhi\n",
      "Hmm.. ! I did not find the exact word. Did you mean 'delphin' instead? (y/n): n\n",
      "okay..\n"
     ]
    }
   ],
   "source": [
    "import json\n",
    "from difflib import get_close_matches\n",
    "\n",
    "data = json.load(open('dictionary.json'))\n",
    "\n",
    "def find_matches(word):\n",
    "    list_of_matches = []\n",
    "    for i in range(len(data)):\n",
    "        list_of_matches.extend(get_close_matches(word, data[i].keys(), n=10))\n",
    "    return get_close_matches(word, list_of_matches, n=1)\n",
    "\n",
    "def translate(word):\n",
    "    word = word.lower()\n",
    "    alphabet = ord(word[0]) - 97\n",
    "    if word in data[alphabet]:\n",
    "        return data[alphabet][word]\n",
    "    elif word.title() in data[alphabet]:\n",
    "        return data[alphabet][word.title()]\n",
    "    elif len(find_matches(word)) > 0:\n",
    "        wrd = find_matches(word)[0]\n",
    "        yn = input(f'Hmm.. ! I did not find the exact word. Did you mean \\'{wrd}\\' instead? (y/n): ')\n",
    "        if yn == 'Y' or yn == 'y':\n",
    "            return translate(wrd)\n",
    "        else:\n",
    "            return 'okay..'\n",
    "    else:\n",
    "        return 'Sorry ! Such word doesn\\'t exists. Please double cheeck.'\n",
    "    \n",
    "word = input('Enter a word: ')\n",
    "\n",
    "print(translate(word))"
   ]
  },
  {
   "cell_type": "code",
   "execution_count": null,
   "metadata": {},
   "outputs": [],
   "source": []
  }
 ],
 "metadata": {
  "kernelspec": {
   "display_name": "Python 3",
   "language": "python",
   "name": "python3"
  },
  "language_info": {
   "codemirror_mode": {
    "name": "ipython",
    "version": 3
   },
   "file_extension": ".py",
   "mimetype": "text/x-python",
   "name": "python",
   "nbconvert_exporter": "python",
   "pygments_lexer": "ipython3",
   "version": "3.7.6"
  }
 },
 "nbformat": 4,
 "nbformat_minor": 4
}
